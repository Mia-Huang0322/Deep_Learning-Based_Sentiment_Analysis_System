{
 "cells": [
  {
   "cell_type": "code",
   "id": "75ba1b7b-c47a-4350-aad4-1fc8200bb93e",
   "metadata": {
    "ExecuteTime": {
     "end_time": "2025-03-19T22:46:19.527401Z",
     "start_time": "2025-03-19T22:46:17.310002Z"
    }
   },
   "source": [
    "import torch\n",
    "from torchvision import datasets, transforms\n",
    "from torch.utils.data import DataLoader\n",
    "\n",
    "# 数据预处理\n",
    "transform = transforms.Compose([\n",
    "    transforms.Resize((224, 224)),  # 统一图像大小\n",
    "    transforms.ToTensor(),\n",
    "    transforms.Normalize(mean=[0.5, 0.5, 0.5], std=[0.5, 0.5, 0.5])  # 归一化\n",
    "])\n",
    "\n",
    "# 读取训练集和验证集\n",
    "# train_dataset = datasets.ImageFolder(root=\"./AffectNet/train\", transform=transform)\n",
    "# val_dataset = datasets.ImageFolder(root=\"./AffectNet/test\", transform=transform)\n",
    "\n",
    "# 创建 DataLoader\n",
    "# train_loader = DataLoader(train_dataset, batch_size=64, shuffle=True)\n",
    "# val_loader = DataLoader(val_dataset, batch_size=64, shuffle=False)\n"
   ],
   "outputs": [],
   "execution_count": 2
  },
  {
   "cell_type": "code",
   "execution_count": 2,
   "id": "395a73c4-76ee-4b40-8099-cd22d6ac49a4",
   "metadata": {},
   "outputs": [
    {
     "name": "stdout",
     "output_type": "stream",
     "text": [
      "{'3': 0, '4': 1, '6': 2}\n"
     ]
    }
   ],
   "source": [
    "print(val_dataset.class_to_idx)"
   ]
  },
  {
   "cell_type": "code",
   "id": "412a2714-d9d3-44b4-a09a-0e5208a772f8",
   "metadata": {
    "ExecuteTime": {
     "end_time": "2025-03-19T22:48:23.532141Z",
     "start_time": "2025-03-19T22:48:23.521156Z"
    }
   },
   "source": [
    "import torch\n",
    "import torch.nn as nn\n",
    "import torchvision.models as models\n",
    "import torch.optim as optim\n",
    "# from torch.utils.data import DataLoader\n",
    "# import pandas as pd\n",
    "# import numpy as np\n",
    "# import matplotlib.pyplot as plt\n",
    "# from torchvision import transforms"
   ],
   "outputs": [],
   "execution_count": 9
  },
  {
   "cell_type": "code",
   "execution_count": 4,
   "id": "ae3cfadc-e3ad-42e0-b15c-898fdd990345",
   "metadata": {},
   "outputs": [],
   "source": [
    "class ResNetModel(nn.Module):\n",
    "    def __init__(self, num_classes=7):\n",
    "        super(ResNetModel, self).__init__()\n",
    "        # 加载预训练的 ResNet50\n",
    "        self.resnet = models.resnet18(pretrained=False)\n",
    "        # 修改全连接层输出为7类情感\n",
    "        self.resnet.fc = nn.Linear(self.resnet.fc.in_features, num_classes)\n",
    "\n",
    "    def forward(self, x):\n",
    "        return self.resnet(x)\n"
   ]
  },
  {
   "cell_type": "code",
   "id": "57c85e83-85e3-48b7-b23c-1d6697631ac6",
   "metadata": {
    "ExecuteTime": {
     "end_time": "2025-03-19T22:46:37.811011Z",
     "start_time": "2025-03-19T22:46:37.805249Z"
    }
   },
   "source": [
    "# Step 6: 训练模型\n",
    "device = torch.device(\"cuda\" if torch.cuda.is_available() else \"cpu\")\n",
    "print(device)\n",
    "# model = ResNetModel(num_classes=3).to(device)"
   ],
   "outputs": [
    {
     "name": "stdout",
     "output_type": "stream",
     "text": [
      "cpu\n"
     ]
    }
   ],
   "execution_count": 4
  },
  {
   "cell_type": "code",
   "execution_count": 6,
   "id": "33a311af-535a-469f-adb4-893b8434e03f",
   "metadata": {},
   "outputs": [],
   "source": [
    "# 设置损失函数和优化器\n",
    "criterion = nn.CrossEntropyLoss()\n",
    "optimizer = optim.Adam(model.parameters(), lr=0.001,weight_decay=1e-4)  # 使用L2正则化"
   ]
  },
  {
   "cell_type": "code",
   "execution_count": 7,
   "id": "da008ea2-83c6-4757-a47e-1dccec0dcae0",
   "metadata": {
    "scrolled": true
   },
   "outputs": [
    {
     "name": "stdout",
     "output_type": "stream",
     "text": [
      "Epoch 1/10, Loss: 259.9624, Accuracy: 0.4128\n",
      "Epoch 2/10, Loss: 214.8830, Accuracy: 0.5434\n",
      "Epoch 3/10, Loss: 185.9410, Accuracy: 0.6203\n",
      "Epoch 4/10, Loss: 169.3283, Accuracy: 0.6626\n",
      "Epoch 5/10, Loss: 158.5336, Accuracy: 0.6926\n",
      "Epoch 6/10, Loss: 149.3392, Accuracy: 0.7085\n",
      "Epoch 7/10, Loss: 142.8382, Accuracy: 0.7245\n",
      "Epoch 8/10, Loss: 134.1643, Accuracy: 0.7463\n",
      "Epoch 9/10, Loss: 127.6973, Accuracy: 0.7601\n",
      "Epoch 10/10, Loss: 119.4435, Accuracy: 0.7785\n"
     ]
    }
   ],
   "source": [
    "epochs = 10\n",
    "for epoch in range(epochs):\n",
    "    model.train()\n",
    "    total_loss, correct = 0, 0\n",
    "    for images, labels in train_loader:\n",
    "        \n",
    "\n",
    "        images, labels = images.to(device), labels.to(device)\n",
    "\n",
    "        optimizer.zero_grad()\n",
    "        outputs = model(images)\n",
    "        # print(outputs.argmax(1))\n",
    "        # print(labels)\n",
    "        loss = criterion(outputs, labels)\n",
    "        loss.backward()\n",
    "        optimizer.step()\n",
    "\n",
    "        total_loss += loss.item()\n",
    "        correct += (outputs.argmax(1) == labels).sum().item()\n",
    "\n",
    "    print(f\"Epoch {epoch+1}/{epochs}, Loss: {total_loss:.4f}, Accuracy: {correct/len(train_dataset):.4f}\")"
   ]
  },
  {
   "cell_type": "code",
   "execution_count": 8,
   "id": "2c5d8e11-b13b-4e0f-8af5-84505103b556",
   "metadata": {},
   "outputs": [
    {
     "name": "stdout",
     "output_type": "stream",
     "text": [
      "917 1218\n",
      "Test Accuracy: 0.7529\n"
     ]
    }
   ],
   "source": [
    "model.eval()\n",
    "correct = 0\n",
    "total = 0\n",
    "\n",
    "with torch.no_grad():\n",
    "    for images, labels in val_loader:\n",
    "        images, labels = images.to(device), labels.to(device)\n",
    "        outputs = model(images)\n",
    "\n",
    "        _, predicted = torch.max(outputs, 1)\n",
    "        total += labels.size(0)\n",
    "        correct += (predicted == labels).sum().item()\n",
    "        # fig, axes = plt.subplots(1, 5, figsize=(15, 5))\n",
    "        # for i in range(5):\n",
    "        #     img = images[i].cpu().numpy().transpose(1, 2, 0)\n",
    "        #     img = (img * 0.5) + 0.5  # 反归一化\n",
    "        #     axes[i].imshow(img)\n",
    "        #     axes[i].set_title(f\"Pred: {predicted[i].item()} | Label: {labels[i].item()}\")\n",
    "        #     axes[i].axis(\"off\")\n",
    "        # plt.show()\n",
    "\n",
    "print(correct,total)\n",
    "test_accuracy = correct / total\n",
    "print(f\"Test Accuracy: {test_accuracy:.4f}\")\n"
   ]
  },
  {
   "cell_type": "code",
   "id": "cc06c6a0-8aee-4843-9593-9dba1711f4f4",
   "metadata": {
    "ExecuteTime": {
     "end_time": "2025-03-19T22:51:35.589637Z",
     "start_time": "2025-03-19T22:51:35.338709Z"
    }
   },
   "source": [
    "from PIL import Image\n",
    "import cv2\n",
    "# 读取图片\n",
    "class ResNetModel(nn.Module):\n",
    "    def __init__(self, num_classes=7):\n",
    "        super(ResNetModel, self).__init__()\n",
    "        # 加载预训练的 ResNet50\n",
    "        self.resnet = models.resnet18(pretrained=False)\n",
    "        # 修改全连接层输出为7类情感\n",
    "        self.resnet.fc = nn.Linear(self.resnet.fc.in_features, num_classes)\n",
    "\n",
    "    def forward(self, x):\n",
    "        return self.resnet(x)\n",
    "image_path = \"C:/Users/30813\\Desktop/f01f53f9dc169601e62ac6fbf61b881.jpg\"  # 你的图片路径\n",
    "image = cv2.imread(image_path)\n",
    "model=torch.load('./sentiment_web/model-64-unpretrained.pth',map_location=torch.device('cpu'))\n",
    "model.eval()\n",
    "# 转换为 PIL 格式\n",
    "face_pil = Image.fromarray(cv2.cvtColor(image, cv2.COLOR_BGR2RGB))\n",
    "image = transform(face_pil).unsqueeze(0).to(device)  # 增加 batch 维度\n",
    "# 进行预测\n",
    "with torch.no_grad():\n",
    "    output = model(image)\n",
    "    _, predicted = torch.max(output, 1)  # 获取最大概率的类别索引\n",
    "\n",
    "# 你的类别标签\n",
    "class_labels = [\"happy\", \"sad\",\"natrual\"]  # 修改为你的实际类别\n",
    "predicted_label = class_labels[predicted.item()]\n",
    "\n",
    "print(f\"预测结果: {predicted_label}\")\n"
   ],
   "outputs": [
    {
     "name": "stdout",
     "output_type": "stream",
     "text": [
      "预测结果: happy\n"
     ]
    },
    {
     "name": "stderr",
     "output_type": "stream",
     "text": [
      "C:\\Users\\30813\\AppData\\Local\\Temp\\ipykernel_39288\\1634130535.py:16: FutureWarning: You are using `torch.load` with `weights_only=False` (the current default value), which uses the default pickle module implicitly. It is possible to construct malicious pickle data which will execute arbitrary code during unpickling (See https://github.com/pytorch/pytorch/blob/main/SECURITY.md#untrusted-models for more details). In a future release, the default value for `weights_only` will be flipped to `True`. This limits the functions that could be executed during unpickling. Arbitrary objects will no longer be allowed to be loaded via this mode unless they are explicitly allowlisted by the user via `torch.serialization.add_safe_globals`. We recommend you start setting `weights_only=True` for any use case where you don't have full control of the loaded file. Please open an issue on GitHub for any issues related to this experimental feature.\n",
      "  model=torch.load('./sentiment_web/model-64-unpretrained.pth',map_location=torch.device('cpu'))\n"
     ]
    }
   ],
   "execution_count": 15
  },
  {
   "cell_type": "code",
   "id": "32034d13-f713-47cf-80dc-394ad361d0c7",
   "metadata": {
    "ExecuteTime": {
     "end_time": "2025-03-19T20:46:27.756190Z",
     "start_time": "2025-03-19T20:46:27.474494Z"
    }
   },
   "source": "torch.save(model, \"sentiment_web/model-64-unpretrained.pth\")\n",
   "outputs": [
    {
     "ename": "NameError",
     "evalue": "name 'torch' is not defined",
     "output_type": "error",
     "traceback": [
      "\u001B[1;31m---------------------------------------------------------------------------\u001B[0m",
      "\u001B[1;31mNameError\u001B[0m                                 Traceback (most recent call last)",
      "Cell \u001B[1;32mIn[1], line 1\u001B[0m\n\u001B[1;32m----> 1\u001B[0m \u001B[43mtorch\u001B[49m\u001B[38;5;241m.\u001B[39msave(model, \u001B[38;5;124m\"\u001B[39m\u001B[38;5;124mmo123del-64-unpretrained.pth\u001B[39m\u001B[38;5;124m\"\u001B[39m)\n",
      "\u001B[1;31mNameError\u001B[0m: name 'torch' is not defined"
     ]
    }
   ],
   "execution_count": 1
  },
  {
   "cell_type": "code",
   "execution_count": null,
   "id": "d49eb6c4-ec5a-4477-8642-32a9fdc760a4",
   "metadata": {},
   "outputs": [],
   "source": []
  }
 ],
 "metadata": {
  "kernelspec": {
   "display_name": "Python 3 (ipykernel)",
   "language": "python",
   "name": "python3"
  },
  "language_info": {
   "codemirror_mode": {
    "name": "ipython",
    "version": 3
   },
   "file_extension": ".py",
   "mimetype": "text/x-python",
   "name": "python",
   "nbconvert_exporter": "python",
   "pygments_lexer": "ipython3",
   "version": "3.12.3"
  }
 },
 "nbformat": 4,
 "nbformat_minor": 5
}
