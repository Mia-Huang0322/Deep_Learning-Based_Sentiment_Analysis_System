{
 "cells": [
  {
   "cell_type": "code",
   "id": "initial_id",
   "metadata": {
    "collapsed": true,
    "ExecuteTime": {
     "end_time": "2025-03-11T07:08:37.803473Z",
     "start_time": "2025-03-11T07:08:37.794590Z"
    }
   },
   "source": "print(\"Hello,World\")",
   "outputs": [
    {
     "name": "stdout",
     "output_type": "stream",
     "text": [
      "Hello,World\n"
     ]
    }
   ],
   "execution_count": 1
  },
  {
   "metadata": {
    "ExecuteTime": {
     "end_time": "2025-03-11T07:09:08.288157Z",
     "start_time": "2025-03-11T07:09:08.118927Z"
    }
   },
   "cell_type": "code",
   "source": "import numpy as np",
   "id": "c006094b123f200f",
   "outputs": [],
   "execution_count": 2
  },
  {
   "metadata": {
    "ExecuteTime": {
     "end_time": "2025-03-11T07:09:53.085291Z",
     "start_time": "2025-03-11T07:09:53.074584Z"
    }
   },
   "cell_type": "code",
   "source": [
    "# 创建矩阵\n",
    "A = np.array([[1, 2], \n",
    "              [3, 4]])\n",
    "B = np.array([[5, 6],\n",
    "              [7, 8]])"
   ],
   "id": "5d522baf30a0d34f",
   "outputs": [],
   "execution_count": 5
  },
  {
   "metadata": {
    "ExecuteTime": {
     "end_time": "2025-03-11T07:10:53.657220Z",
     "start_time": "2025-03-11T07:10:53.644511Z"
    }
   },
   "cell_type": "code",
   "source": "A",
   "id": "793c9de72e8550d4",
   "outputs": [
    {
     "data": {
      "text/plain": [
       "array([[1, 2],\n",
       "       [3, 4]])"
      ]
     },
     "execution_count": 13,
     "metadata": {},
     "output_type": "execute_result"
    }
   ],
   "execution_count": 13
  },
  {
   "metadata": {
    "ExecuteTime": {
     "end_time": "2025-03-11T07:10:31.379222Z",
     "start_time": "2025-03-11T07:10:31.359197Z"
    }
   },
   "cell_type": "code",
   "source": "B",
   "id": "8366909536869f14",
   "outputs": [
    {
     "data": {
      "text/plain": [
       "array([[5, 6],\n",
       "       [7, 8]])"
      ]
     },
     "execution_count": 9,
     "metadata": {},
     "output_type": "execute_result"
    }
   ],
   "execution_count": 9
  },
  {
   "metadata": {
    "ExecuteTime": {
     "end_time": "2025-03-11T07:10:48.036795Z",
     "start_time": "2025-03-11T07:10:48.032307Z"
    }
   },
   "cell_type": "code",
   "source": [
    "C=A+B\n",
    "C"
   ],
   "id": "bce0424810d499b5",
   "outputs": [
    {
     "data": {
      "text/plain": [
       "array([[ 6,  8],\n",
       "       [10, 12]])"
      ]
     },
     "execution_count": 12,
     "metadata": {},
     "output_type": "execute_result"
    }
   ],
   "execution_count": 12
  },
  {
   "metadata": {
    "ExecuteTime": {
     "end_time": "2025-03-11T07:11:11.056909Z",
     "start_time": "2025-03-11T07:11:11.045056Z"
    }
   },
   "cell_type": "code",
   "source": [
    "C=A-B\n",
    "C"
   ],
   "id": "6a9083e4e7422bfe",
   "outputs": [
    {
     "data": {
      "text/plain": [
       "array([[-4, -4],\n",
       "       [-4, -4]])"
      ]
     },
     "execution_count": 14,
     "metadata": {},
     "output_type": "execute_result"
    }
   ],
   "execution_count": 14
  },
  {
   "metadata": {
    "ExecuteTime": {
     "end_time": "2025-03-11T07:11:30.454566Z",
     "start_time": "2025-03-11T07:11:30.436698Z"
    }
   },
   "cell_type": "code",
   "source": [
    "# 逐元素乘法(只有矩阵大小相同时才能进行此操作）\n",
    "C=A*B\n",
    "C"
   ],
   "id": "44bac9d29dfa3742",
   "outputs": [
    {
     "data": {
      "text/plain": [
       "array([[ 5, 12],\n",
       "       [21, 32]])"
      ]
     },
     "execution_count": 15,
     "metadata": {},
     "output_type": "execute_result"
    }
   ],
   "execution_count": 15
  },
  {
   "metadata": {
    "ExecuteTime": {
     "end_time": "2025-03-11T07:12:58.956037Z",
     "start_time": "2025-03-11T07:12:58.937088Z"
    }
   },
   "cell_type": "code",
   "source": [
    "# 矩阵乘法2*2 2*2 -> 2*2\n",
    "C=A@B\n",
    "C"
   ],
   "id": "e86fb5c0bc0bcce",
   "outputs": [
    {
     "data": {
      "text/plain": [
       "array([[19, 22],\n",
       "       [43, 50]])"
      ]
     },
     "execution_count": 16,
     "metadata": {},
     "output_type": "execute_result"
    }
   ],
   "execution_count": 16
  },
  {
   "metadata": {
    "ExecuteTime": {
     "end_time": "2025-03-11T07:17:10.855757Z",
     "start_time": "2025-03-11T07:17:10.847946Z"
    }
   },
   "cell_type": "code",
   "source": [
    "C=A.T\n",
    "C"
   ],
   "id": "c23b96561662a502",
   "outputs": [
    {
     "data": {
      "text/plain": [
       "array([[1, 3],\n",
       "       [2, 4]])"
      ]
     },
     "execution_count": 17,
     "metadata": {},
     "output_type": "execute_result"
    }
   ],
   "execution_count": 17
  },
  {
   "metadata": {
    "ExecuteTime": {
     "end_time": "2025-03-11T07:24:05.743659Z",
     "start_time": "2025-03-11T07:24:05.737971Z"
    }
   },
   "cell_type": "code",
   "source": [
    "# 计算行列式\n",
    "det_A=np.linalg.det(B)\n",
    "round(det_A,10)"
   ],
   "id": "c4bbf0cbbd8bc88f",
   "outputs": [
    {
     "data": {
      "text/plain": [
       "-2.0"
      ]
     },
     "execution_count": 25,
     "metadata": {},
     "output_type": "execute_result"
    }
   ],
   "execution_count": 25
  },
  {
   "metadata": {
    "ExecuteTime": {
     "end_time": "2025-03-11T07:26:56.671998Z",
     "start_time": "2025-03-11T07:26:56.654114Z"
    }
   },
   "cell_type": "code",
   "source": [
    "inv_A=np.linalg.inv(A)\n",
    "inv_A"
   ],
   "id": "b87c6926c2f72cf6",
   "outputs": [
    {
     "data": {
      "text/plain": [
       "array([[-2. ,  1. ],\n",
       "       [ 1.5, -0.5]])"
      ]
     },
     "execution_count": 27,
     "metadata": {},
     "output_type": "execute_result"
    }
   ],
   "execution_count": 27
  },
  {
   "metadata": {
    "ExecuteTime": {
     "end_time": "2025-03-11T07:55:54.726281Z",
     "start_time": "2025-03-11T07:55:54.713826Z"
    }
   },
   "cell_type": "code",
   "source": "E=np.array([[4,-2],[1,1]])",
   "id": "842673546bfec60e",
   "outputs": [],
   "execution_count": 30
  },
  {
   "metadata": {
    "ExecuteTime": {
     "end_time": "2025-03-11T07:56:04.921333Z",
     "start_time": "2025-03-11T07:56:04.902666Z"
    }
   },
   "cell_type": "code",
   "source": [
    "eigvals,eigvecs=np.linalg.eig(E)\n",
    "eigvals,eigvecs"
   ],
   "id": "a4898fb68351b352",
   "outputs": [
    {
     "data": {
      "text/plain": [
       "(array([3., 2.]),\n",
       " array([[0.89442719, 0.70710678],\n",
       "        [0.4472136 , 0.70710678]]))"
      ]
     },
     "execution_count": 31,
     "metadata": {},
     "output_type": "execute_result"
    }
   ],
   "execution_count": 31
  },
  {
   "metadata": {
    "ExecuteTime": {
     "end_time": "2025-03-11T07:57:09.442645Z",
     "start_time": "2025-03-11T07:57:09.433102Z"
    }
   },
   "cell_type": "code",
   "source": [
    "rank_A=np.linalg.matrix_rank(A)\n",
    "rank_A"
   ],
   "id": "8c217e7e881fc01f",
   "outputs": [
    {
     "data": {
      "text/plain": [
       "2"
      ]
     },
     "execution_count": 33,
     "metadata": {},
     "output_type": "execute_result"
    }
   ],
   "execution_count": 33
  },
  {
   "metadata": {
    "ExecuteTime": {
     "end_time": "2025-03-11T07:57:37.408522Z",
     "start_time": "2025-03-11T07:57:37.388918Z"
    }
   },
   "cell_type": "code",
   "source": [
    "trace_A=np.trace(A)\n",
    "trace_A"
   ],
   "id": "a006701e9ab903cb",
   "outputs": [
    {
     "data": {
      "text/plain": [
       "5"
      ]
     },
     "execution_count": 36,
     "metadata": {},
     "output_type": "execute_result"
    }
   ],
   "execution_count": 36
  },
  {
   "metadata": {
    "ExecuteTime": {
     "end_time": "2025-03-11T07:58:11.922775Z",
     "start_time": "2025-03-11T07:58:11.911544Z"
    }
   },
   "cell_type": "code",
   "source": [
    "norm_A=np.linalg.norm(A)\n",
    "norm_A"
   ],
   "id": "ff5dbcc86d2f7599",
   "outputs": [
    {
     "data": {
      "text/plain": [
       "5.477225575051661"
      ]
     },
     "execution_count": 37,
     "metadata": {},
     "output_type": "execute_result"
    }
   ],
   "execution_count": 37
  },
  {
   "metadata": {
    "ExecuteTime": {
     "end_time": "2025-03-11T07:58:41.984573Z",
     "start_time": "2025-03-11T07:58:41.969275Z"
    }
   },
   "cell_type": "code",
   "source": [
    "H_stack=np.hstack((A,B))\n",
    "H_stack"
   ],
   "id": "71a5a144ce2384a9",
   "outputs": [
    {
     "data": {
      "text/plain": [
       "array([[1, 2, 5, 6],\n",
       "       [3, 4, 7, 8]])"
      ]
     },
     "execution_count": 38,
     "metadata": {},
     "output_type": "execute_result"
    }
   ],
   "execution_count": 38
  },
  {
   "metadata": {
    "ExecuteTime": {
     "end_time": "2025-03-11T07:59:14.373150Z",
     "start_time": "2025-03-11T07:59:14.352746Z"
    }
   },
   "cell_type": "code",
   "source": [
    "V_stack=np.vstack((A,B))\n",
    "V_stack"
   ],
   "id": "205ebdbd2beef4d0",
   "outputs": [
    {
     "data": {
      "text/plain": [
       "array([[1, 2],\n",
       "       [3, 4],\n",
       "       [5, 6],\n",
       "       [7, 8]])"
      ]
     },
     "execution_count": 40,
     "metadata": {},
     "output_type": "execute_result"
    }
   ],
   "execution_count": 40
  },
  {
   "metadata": {
    "ExecuteTime": {
     "end_time": "2025-03-11T08:07:28.474547Z",
     "start_time": "2025-03-11T08:07:28.468745Z"
    }
   },
   "cell_type": "code",
   "source": "30**0.5",
   "id": "a09d2ae187d81497",
   "outputs": [
    {
     "data": {
      "text/plain": [
       "5.477225575051661"
      ]
     },
     "execution_count": 41,
     "metadata": {},
     "output_type": "execute_result"
    }
   ],
   "execution_count": 41
  },
  {
   "metadata": {},
   "cell_type": "code",
   "outputs": [],
   "execution_count": null,
   "source": "",
   "id": "f58ff4d42097513f"
  }
 ],
 "metadata": {
  "kernelspec": {
   "display_name": "Python 3",
   "language": "python",
   "name": "python3"
  },
  "language_info": {
   "codemirror_mode": {
    "name": "ipython",
    "version": 2
   },
   "file_extension": ".py",
   "mimetype": "text/x-python",
   "name": "python",
   "nbconvert_exporter": "python",
   "pygments_lexer": "ipython2",
   "version": "2.7.6"
  }
 },
 "nbformat": 4,
 "nbformat_minor": 5
}
